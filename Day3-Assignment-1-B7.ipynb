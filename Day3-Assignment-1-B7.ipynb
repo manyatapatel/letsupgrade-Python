{
 "cells": [
  {
   "cell_type": "code",
   "execution_count": 1,
   "metadata": {},
   "outputs": [
    {
     "name": "stdout",
     "output_type": "stream",
     "text": [
      "Input - 1000\n",
      "land the plane\n"
     ]
    }
   ],
   "source": [
    "altitude = int(input(\"Input - \"))\n",
    "if altitude>1000 and altitude<=5000:\n",
    "    print(\"Bring down to 1000\")\n",
    "elif altitude>5000:\n",
    "    print(\"go around and try later\")\n",
    "else:\n",
    "    print(\"land the plane\")"
   ]
  },
  {
   "cell_type": "code",
   "execution_count": 15,
   "metadata": {},
   "outputs": [
    {
     "name": "stdout",
     "output_type": "stream",
     "text": [
      "Input - 4500\n",
      "Bring down to 1000\n"
     ]
    }
   ],
   "source": [
    "altitude = int(input(\"Input - \"))\n",
    "if altitude>1000 and altitude<=5000:\n",
    "    print(\"Bring down to 1000\")\n",
    "elif altitude>5000:\n",
    "    print(\"go around and try later\")\n",
    "else:\n",
    "    print(\"land the plane\")"
   ]
  },
  {
   "cell_type": "code",
   "execution_count": 10,
   "metadata": {},
   "outputs": [
    {
     "name": "stdout",
     "output_type": "stream",
     "text": [
      "Input - 6500\n",
      "go around and try later\n"
     ]
    }
   ],
   "source": [
    "altitude = int(input(\"Input - \"))\n",
    "if altitude>1000 and altitude<=5000:\n",
    "    print(\"Bring down to 1000\")\n",
    "elif altitude>5000:\n",
    "    print(\"go around and try later\")\n",
    "else:\n",
    "    print(\"land the plane\")"
   ]
  },
  {
   "cell_type": "code",
   "execution_count": null,
   "metadata": {},
   "outputs": [],
   "source": []
  }
 ],
 "metadata": {
  "kernelspec": {
   "display_name": "Python 3",
   "language": "python",
   "name": "python3"
  },
  "language_info": {
   "codemirror_mode": {
    "name": "ipython",
    "version": 3
   },
   "file_extension": ".py",
   "mimetype": "text/x-python",
   "name": "python",
   "nbconvert_exporter": "python",
   "pygments_lexer": "ipython3",
   "version": "3.8.3"
  }
 },
 "nbformat": 4,
 "nbformat_minor": 4
}
